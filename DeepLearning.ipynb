{
 "cells": [
  {
   "cell_type": "markdown",
   "metadata": {},
   "source": [
    "# Questions \n",
    "* What are the graphs that show val_accuracy\n",
    "* What's happening with a .compile\n",
    "\n",
    "\n",
    "# Objectives\n",
    "YWBAT\n",
    "* build neural networks and tune hyperparams in Keras\n",
    "* evaluate NNs\n",
    "\n",
    "\n",
    "# Agenda\n",
    "* I will walk through a model and build it \n",
    "* Your group will build models to find the best model"
   ]
  },
  {
   "cell_type": "markdown",
   "metadata": {},
   "source": [
    "# What's the first step for NLP?\n",
    "* Acquire the data\n",
    "* Look at and format it for the model\n",
    "    * format = vectorization\n",
    "    * what are some types of vectorizations for NLP\n",
    "        * Bag Of Words - each word is a column and each row gets a word count for each column\n",
    "        * TFIDF - each word is a column and each row gets a tfidf score for each word\n",
    "        * TF - \n",
    "        * IDF - \n",
    "        * Word Embeddings - contextual vectors"
   ]
  },
  {
   "cell_type": "code",
   "execution_count": 38,
   "metadata": {},
   "outputs": [],
   "source": [
    "import pandas as pd\n",
    "import numpy as np\n",
    "import string\n",
    "import nltk\n",
    "\n",
    "from nltk.corpus import stopwords\n",
    "from nltk import word_tokenize, FreqDist\n",
    "from sklearn.decomposition import PCA\n",
    "from sklearn.preprocessing import OneHotEncoder\n",
    "from sklearn.feature_extraction.text import TfidfVectorizer\n",
    "from sklearn.feature_extraction.text import CountVectorizer\n",
    "from sklearn.metrics import accuracy_score, confusion_matrix, classification_report\n",
    "from sklearn.datasets import fetch_20newsgroups\n",
    "\n",
    "\n",
    "import keras\n",
    "from keras import optimizers\n",
    "from keras.layers import Dense\n",
    "\n",
    "from gensim.models import Word2Vec\n",
    "\n",
    "\n",
    "import matplotlib.pyplot as plt\n",
    "import seaborn as sns"
   ]
  },
  {
   "cell_type": "code",
   "execution_count": 2,
   "metadata": {},
   "outputs": [
    {
     "data": {
      "text/html": [
       "<div>\n",
       "<style scoped>\n",
       "    .dataframe tbody tr th:only-of-type {\n",
       "        vertical-align: middle;\n",
       "    }\n",
       "\n",
       "    .dataframe tbody tr th {\n",
       "        vertical-align: top;\n",
       "    }\n",
       "\n",
       "    .dataframe thead th {\n",
       "        text-align: right;\n",
       "    }\n",
       "</style>\n",
       "<table border=\"1\" class=\"dataframe\">\n",
       "  <thead>\n",
       "    <tr style=\"text-align: right;\">\n",
       "      <th></th>\n",
       "      <th>article</th>\n",
       "      <th>label</th>\n",
       "      <th>processed_article</th>\n",
       "      <th>cleaned_article_string</th>\n",
       "    </tr>\n",
       "  </thead>\n",
       "  <tbody>\n",
       "    <tr>\n",
       "      <td>0</td>\n",
       "      <td>Note: These trial updates are summarized from ...</td>\n",
       "      <td>4</td>\n",
       "      <td>['note', 'trial', 'updates', 'summarized', 're...</td>\n",
       "      <td>note trial updates summarized reports idaho st...</td>\n",
       "    </tr>\n",
       "    <tr>\n",
       "      <td>1</td>\n",
       "      <td>NaN</td>\n",
       "      <td>3</td>\n",
       "      <td>[]</td>\n",
       "      <td>NaN</td>\n",
       "    </tr>\n",
       "  </tbody>\n",
       "</table>\n",
       "</div>"
      ],
      "text/plain": [
       "                                             article  label  \\\n",
       "0  Note: These trial updates are summarized from ...      4   \n",
       "1                                                NaN      3   \n",
       "\n",
       "                                   processed_article  \\\n",
       "0  ['note', 'trial', 'updates', 'summarized', 're...   \n",
       "1                                                 []   \n",
       "\n",
       "                              cleaned_article_string  \n",
       "0  note trial updates summarized reports idaho st...  \n",
       "1                                                NaN  "
      ]
     },
     "metadata": {},
     "output_type": "display_data"
    },
    {
     "data": {
      "text/html": [
       "<div>\n",
       "<style scoped>\n",
       "    .dataframe tbody tr th:only-of-type {\n",
       "        vertical-align: middle;\n",
       "    }\n",
       "\n",
       "    .dataframe tbody tr th {\n",
       "        vertical-align: top;\n",
       "    }\n",
       "\n",
       "    .dataframe thead th {\n",
       "        text-align: right;\n",
       "    }\n",
       "</style>\n",
       "<table border=\"1\" class=\"dataframe\">\n",
       "  <thead>\n",
       "    <tr style=\"text-align: right;\">\n",
       "      <th></th>\n",
       "      <th>article</th>\n",
       "      <th>label</th>\n",
       "      <th>processed_article</th>\n",
       "      <th>cleaned_article_string</th>\n",
       "    </tr>\n",
       "  </thead>\n",
       "  <tbody>\n",
       "    <tr>\n",
       "      <td>0</td>\n",
       "      <td>[ ... ]</td>\n",
       "      <td>4</td>\n",
       "      <td>[]</td>\n",
       "      <td>NaN</td>\n",
       "    </tr>\n",
       "    <tr>\n",
       "      <td>1</td>\n",
       "      <td>\\nonce upon a time, that's exactly what they w...</td>\n",
       "      <td>4</td>\n",
       "      <td>['upon', 'time', 'exactly', 'would', 'done', '...</td>\n",
       "      <td>upon time exactly would done everyone could go...</td>\n",
       "    </tr>\n",
       "  </tbody>\n",
       "</table>\n",
       "</div>"
      ],
      "text/plain": [
       "                                             article  label  \\\n",
       "0                                            [ ... ]      4   \n",
       "1  \\nonce upon a time, that's exactly what they w...      4   \n",
       "\n",
       "                                   processed_article  \\\n",
       "0                                                 []   \n",
       "1  ['upon', 'time', 'exactly', 'would', 'done', '...   \n",
       "\n",
       "                              cleaned_article_string  \n",
       "0                                                NaN  \n",
       "1  upon time exactly would done everyone could go...  "
      ]
     },
     "metadata": {},
     "output_type": "display_data"
    },
    {
     "data": {
      "text/plain": [
       "((2814, 4), (1873, 4))"
      ]
     },
     "execution_count": 2,
     "metadata": {},
     "output_type": "execute_result"
    }
   ],
   "source": [
    "df_train = pd.read_csv(\"data/nlp_data_train.csv\")\n",
    "df_test = pd.read_csv(\"data/nlp_data_test.csv\")\n",
    "display(df_train.head(2))\n",
    "display(df_test.head(2))\n",
    "df_train.shape, df_test.shape"
   ]
  },
  {
   "cell_type": "code",
   "execution_count": 3,
   "metadata": {},
   "outputs": [],
   "source": [
    "bow = CountVectorizer(max_features=5000)"
   ]
  },
  {
   "cell_type": "code",
   "execution_count": 4,
   "metadata": {},
   "outputs": [],
   "source": [
    "bow_train = bow.fit_transform(df_train[\"processed_article\"])\n",
    "bow_test = bow.transform(df_test[\"processed_article\"])"
   ]
  },
  {
   "cell_type": "code",
   "execution_count": 5,
   "metadata": {},
   "outputs": [
    {
     "data": {
      "text/plain": [
       "((2814, 5000), (1873, 5000))"
      ]
     },
     "execution_count": 5,
     "metadata": {},
     "output_type": "execute_result"
    }
   ],
   "source": [
    "bow_train.shape, bow_test.shape"
   ]
  },
  {
   "cell_type": "code",
   "execution_count": 6,
   "metadata": {},
   "outputs": [
    {
     "data": {
      "text/plain": [
       "5000"
      ]
     },
     "execution_count": 6,
     "metadata": {},
     "output_type": "execute_result"
    }
   ],
   "source": [
    "len(bow.vocabulary_)"
   ]
  },
  {
   "cell_type": "code",
   "execution_count": 7,
   "metadata": {},
   "outputs": [],
   "source": [
    "# first one hot encode our target\n",
    "encoder = OneHotEncoder()"
   ]
  },
  {
   "cell_type": "code",
   "execution_count": 8,
   "metadata": {},
   "outputs": [],
   "source": [
    "y_train_enc = encoder.fit_transform(df_train[\"label\"].values.reshape(-1, 1))\n",
    "y_test_enc = encoder.fit_transform(df_test[\"label\"].values.reshape(-1, 1))"
   ]
  },
  {
   "cell_type": "code",
   "execution_count": 9,
   "metadata": {},
   "outputs": [
    {
     "data": {
      "text/plain": [
       "((2814, 5), (1873, 5))"
      ]
     },
     "execution_count": 9,
     "metadata": {},
     "output_type": "execute_result"
    }
   ],
   "source": [
    "y_train_enc.shape, y_test_enc.shape"
   ]
  },
  {
   "cell_type": "code",
   "execution_count": 10,
   "metadata": {},
   "outputs": [
    {
     "data": {
      "text/plain": [
       "0    4\n",
       "1    3\n",
       "2    1\n",
       "3    4\n",
       "4    0\n",
       "Name: label, dtype: int64"
      ]
     },
     "execution_count": 10,
     "metadata": {},
     "output_type": "execute_result"
    }
   ],
   "source": [
    "df_train['label'][:5]"
   ]
  },
  {
   "cell_type": "code",
   "execution_count": 11,
   "metadata": {},
   "outputs": [
    {
     "data": {
      "text/plain": [
       "matrix([[0., 0., 0., 0., 1.],\n",
       "        [0., 0., 0., 1., 0.],\n",
       "        [0., 1., 0., 0., 0.],\n",
       "        [0., 0., 0., 0., 1.],\n",
       "        [1., 0., 0., 0., 0.]])"
      ]
     },
     "execution_count": 11,
     "metadata": {},
     "output_type": "execute_result"
    }
   ],
   "source": [
    "y_train_enc.todense()[:5]"
   ]
  },
  {
   "cell_type": "markdown",
   "metadata": {},
   "source": [
    "# Let's build a NN to best predict the outcome"
   ]
  },
  {
   "cell_type": "code",
   "execution_count": 12,
   "metadata": {},
   "outputs": [
    {
     "name": "stderr",
     "output_type": "stream",
     "text": [
      "WARNING: Logging before flag parsing goes to stderr.\n",
      "W0408 13:29:59.530045 140735865734016 deprecation_wrapper.py:119] From /Users/rafael/anaconda3/envs/flatiron-env/lib/python3.6/site-packages/keras/backend/tensorflow_backend.py:74: The name tf.get_default_graph is deprecated. Please use tf.compat.v1.get_default_graph instead.\n",
      "\n"
     ]
    }
   ],
   "source": [
    "model = keras.Sequential()"
   ]
  },
  {
   "cell_type": "code",
   "execution_count": 13,
   "metadata": {},
   "outputs": [
    {
     "name": "stderr",
     "output_type": "stream",
     "text": [
      "W0408 13:30:16.317456 140735865734016 deprecation_wrapper.py:119] From /Users/rafael/anaconda3/envs/flatiron-env/lib/python3.6/site-packages/keras/backend/tensorflow_backend.py:517: The name tf.placeholder is deprecated. Please use tf.compat.v1.placeholder instead.\n",
      "\n",
      "W0408 13:30:16.321883 140735865734016 deprecation_wrapper.py:119] From /Users/rafael/anaconda3/envs/flatiron-env/lib/python3.6/site-packages/keras/backend/tensorflow_backend.py:4138: The name tf.random_uniform is deprecated. Please use tf.random.uniform instead.\n",
      "\n"
     ]
    }
   ],
   "source": [
    "model.add(Dense(units=5000, use_bias=False, activation='relu', input_dim=5000))\n",
    "model.add(Dense(units=5, activation='softmax'))"
   ]
  },
  {
   "cell_type": "code",
   "execution_count": 14,
   "metadata": {},
   "outputs": [
    {
     "name": "stdout",
     "output_type": "stream",
     "text": [
      "_________________________________________________________________\n",
      "Layer (type)                 Output Shape              Param #   \n",
      "=================================================================\n",
      "dense_1 (Dense)              (None, 5000)              25000000  \n",
      "_________________________________________________________________\n",
      "dense_2 (Dense)              (None, 5)                 25005     \n",
      "=================================================================\n",
      "Total params: 25,025,005\n",
      "Trainable params: 25,025,005\n",
      "Non-trainable params: 0\n",
      "_________________________________________________________________\n"
     ]
    }
   ],
   "source": [
    "model.summary()"
   ]
  },
  {
   "cell_type": "code",
   "execution_count": 20,
   "metadata": {},
   "outputs": [],
   "source": [
    "model_optimizer = optimizers.Adam(lr=0.001)\n",
    "\n",
    "model.compile(loss=keras.losses.categorical_crossentropy, \n",
    "              optimizer=model_optimizer)"
   ]
  },
  {
   "cell_type": "code",
   "execution_count": 21,
   "metadata": {},
   "outputs": [
    {
     "name": "stdout",
     "output_type": "stream",
     "text": [
      "Epoch 1/10\n",
      "2814/2814 [==============================] - 8s 3ms/step - loss: 0.6353\n",
      "Epoch 2/10\n",
      "2814/2814 [==============================] - 7s 2ms/step - loss: 0.1622\n",
      "Epoch 3/10\n",
      "2814/2814 [==============================] - 7s 2ms/step - loss: 0.1022\n",
      "Epoch 4/10\n",
      "2814/2814 [==============================] - 7s 2ms/step - loss: 0.0753\n",
      "Epoch 5/10\n",
      "2814/2814 [==============================] - 6s 2ms/step - loss: 0.0624\n",
      "Epoch 6/10\n",
      "2814/2814 [==============================] - 7s 2ms/step - loss: 0.0546\n",
      "Epoch 7/10\n",
      "2814/2814 [==============================] - 7s 2ms/step - loss: 0.0498\n",
      "Epoch 8/10\n",
      "2814/2814 [==============================] - 7s 2ms/step - loss: 0.0465\n",
      "Epoch 9/10\n",
      "2814/2814 [==============================] - 7s 2ms/step - loss: 0.0440\n",
      "Epoch 10/10\n",
      "2814/2814 [==============================] - 7s 2ms/step - loss: 0.0422\n"
     ]
    }
   ],
   "source": [
    "history = model.fit(bow_train, y_train_enc, epochs=10, batch_size=200, verbose=1)"
   ]
  },
  {
   "cell_type": "code",
   "execution_count": 22,
   "metadata": {},
   "outputs": [
    {
     "data": {
      "image/png": "[encoded data removed]",
      "text/plain": [
       "<Figure size 936x576 with 1 Axes>"
      ]
     },
     "metadata": {
      "needs_background": "light"
     },
     "output_type": "display_data"
    }
   ],
   "source": [
    "def plot_history(history, figsize=(13, 8), color='purple', s=50, alpha=0.5):\n",
    "    plt.figure(figsize=figsize)\n",
    "    plt.grid(zorder=0, linestyle='--')\n",
    "    plt.scatter(history.epoch, history.history[\"loss\"], c=color, s=s, alpha=alpha)\n",
    "    plt.xlabel(\"epochs\")\n",
    "    plt.ylabel(\"loss\")\n",
    "    plt.show()\n",
    "    \n",
    "    \n",
    "plot_history(history)"
   ]
  },
  {
   "cell_type": "code",
   "execution_count": 29,
   "metadata": {},
   "outputs": [
    {
     "data": {
      "text/plain": [
       "array([[2.0113520e-01, 1.9291784e-01, 2.1126461e-01, 1.9568740e-01,\n",
       "        1.9899490e-01],\n",
       "       [4.9218485e-01, 8.5146412e-06, 5.7058659e-04, 1.1563552e-02,\n",
       "        4.9567258e-01],\n",
       "       [2.7016386e-01, 4.1172105e-01, 6.7370539e-03, 1.9455597e-01,\n",
       "        1.1682206e-01]], dtype=float32)"
      ]
     },
     "execution_count": 29,
     "metadata": {},
     "output_type": "execute_result"
    }
   ],
   "source": [
    "y_preds = model.predict(bow_test)\n",
    "y_preds[:3]"
   ]
  },
  {
   "cell_type": "code",
   "execution_count": 33,
   "metadata": {},
   "outputs": [],
   "source": [
    "y_pred_labels = np.argmax(y_preds, axis=1)"
   ]
  },
  {
   "cell_type": "code",
   "execution_count": 36,
   "metadata": {},
   "outputs": [
    {
     "name": "stdout",
     "output_type": "stream",
     "text": [
      "              precision    recall  f1-score   support\n",
      "\n",
      "           0       0.77      0.80      0.79       319\n",
      "           1       0.94      0.87      0.90       395\n",
      "           2       0.84      0.93      0.88       399\n",
      "           3       0.80      0.79      0.80       396\n",
      "           4       0.79      0.76      0.77       364\n",
      "\n",
      "    accuracy                           0.83      1873\n",
      "   macro avg       0.83      0.83      0.83      1873\n",
      "weighted avg       0.83      0.83      0.83      1873\n",
      "\n"
     ]
    }
   ],
   "source": [
    "report = classification_report(df_test['label'], y_pred_labels)\n",
    "print(report)"
   ]
  },
  {
   "cell_type": "code",
   "execution_count": 41,
   "metadata": {},
   "outputs": [
    {
     "data": {
      "image/png": "[encoded data removed]",
      "text/plain": [
       "<Figure size 720x720 with 2 Axes>"
      ]
     },
     "metadata": {
      "needs_background": "light"
     },
     "output_type": "display_data"
    }
   ],
   "source": [
    "cm = confusion_matrix(df_test['label'], y_pred_labels)\n",
    "plt.figure(figsize=(10, 10))\n",
    "sns.heatmap(cm, annot=True, cmap=sns.color_palette('Blues'), fmt='0.3g')\n",
    "plt.xlabel(\"Preds\")\n",
    "plt.ylabel(\"Actual\")\n",
    "plt.show()"
   ]
  },
  {
   "cell_type": "code",
   "execution_count": null,
   "metadata": {},
   "outputs": [],
   "source": []
  }
 ],
 "metadata": {
  "kernelspec": {
   "display_name": "Python [conda env:flatiron-env] *",
   "language": "python",
   "name": "conda-env-flatiron-env-py"
  },
  "language_info": {
   "codemirror_mode": {
    "name": "ipython",
    "version": 3
   },
   "file_extension": ".py",
   "mimetype": "text/x-python",
   "name": "python",
   "nbconvert_exporter": "python",
   "pygments_lexer": "ipython3",
   "version": "3.6.0"
  }
 },
 "nbformat": 4,
 "nbformat_minor": 2
}
